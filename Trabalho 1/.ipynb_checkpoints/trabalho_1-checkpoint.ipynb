{
 "cells": [
  {
   "cell_type": "markdown",
   "metadata": {},
   "source": [
    "# Reconhecimento de Padrões - trabalho computacional"
   ]
  },
  {
   "cell_type": "markdown",
   "metadata": {},
   "source": [
    "### Importando dados"
   ]
  },
  {
   "cell_type": "code",
   "execution_count": 174,
   "metadata": {},
   "outputs": [],
   "source": [
    "import numpy as np\n",
    "import pandas as pd\n",
    "\n",
    "# função para divisão dos dados em treino e teste\n",
    "from sklearn.model_selection import train_test_split"
   ]
  },
  {
   "cell_type": "markdown",
   "metadata": {},
   "source": [
    "Clinical Attributes: (take values 0, 1, 2, 3, unless otherwise indicated)\n",
    "Histopathological Attributes: (take values 0, 1, 2, 3)\n",
    "\n",
    "* 1: erythema\n",
    "* 2: scaling\n",
    "* 3: definite borders\n",
    "* 4: itching\n",
    "* 5: koebner phenomenon\n",
    "* 6: polygonal papules\n",
    "* 7: follicular papules\n",
    "* 8: oral mucosal involvement\n",
    "* 9: knee and elbow involvement\n",
    "* 10: scalp involvement\n",
    "* 11: family history, (0 or 1)\n",
    "* 34: Age (linear)\n",
    "\n",
    "\n",
    "* 12: melanin incontinence\n",
    "* 13: eosinophils in the infiltrate\n",
    "* 14: PNL infiltrate\n",
    "* 15: fibrosis of the papillary dermis\n",
    "* 16: exocytosis\n",
    "* 17: acanthosis\n",
    "* 18: hyperkeratosis\n",
    "* 19: parakeratosis\n",
    "* 20: clubbing of the rete ridges\n",
    "* 21: elongation of the rete ridges\n",
    "* 22: thinning of the suprapapillary epidermis\n",
    "* 23: spongiform pustule\n",
    "* 24: munro microabcess\n",
    "* 25: focal hypergranulosis\n",
    "* 26: disappearance of the granular layer\n",
    "* 27: vacuolisation and damage of basal layer\n",
    "* 28: spongiosis\n",
    "* 29: saw-tooth appearance of retes\n",
    "* 30: follicular horn plug\n",
    "* 31: perifollicular parakeratosis\n",
    "* 32: inflammatory monoluclear inflitrate\n",
    "* 33: band-like infiltrate"
   ]
  },
  {
   "cell_type": "code",
   "execution_count": 41,
   "metadata": {},
   "outputs": [],
   "source": [
    "df = pd.read_csv('dados/dermatology.data', header=None)"
   ]
  },
  {
   "cell_type": "code",
   "execution_count": 42,
   "metadata": {},
   "outputs": [],
   "source": [
    "# substituindo valores nulos da coluna de idade e transforomando para inteiro\n",
    "df[33] = df[33].apply(lambda x: '0' if x == '?' else x).astype('int')"
   ]
  },
  {
   "cell_type": "markdown",
   "metadata": {},
   "source": [
    "## 1. Implementar o classificador do vizinho mais próximo (NN, Nearest Neighbor) para cada uma das seguintes distâncias: quarteirão e euclidiana"
   ]
  },
  {
   "cell_type": "code",
   "execution_count": 311,
   "metadata": {},
   "outputs": [],
   "source": [
    "# importando função para calcular distâncias\n",
    "from sklearn.metrics.pairwise import euclidean_distances, manhattan_distances\n",
    "from sklearn.preprocessing import StandardScaler"
   ]
  },
  {
   "cell_type": "code",
   "execution_count": 312,
   "metadata": {},
   "outputs": [],
   "source": [
    "# função para cálculo das distâncias\n",
    "def get_distances(X_train, x, distance = 'euclidean'):\n",
    "    if distance == 'euclidean':\n",
    "        dists = pd.Series(euclidean_distances(X_train, [x]).reshape(len(X_train), ), index=X_train.index)\n",
    "    else:\n",
    "        dists = pd.Series(manhattan_distances(X_train, [x]).reshape(len(X_train), ), index=X_train.index)\n",
    "    return dists\n",
    "\n",
    "# retorna k vizinhos mais próximos a um determinado dado\n",
    "def get_neighbors(X_train, k, x, y, distance = 'euclidean'):\n",
    "    distances = get_distances(X_train, x, distance)\n",
    "    neighbors_index = distances.sort_values()[:k].index\n",
    "    return X_train.loc[neighbors_index]\n",
    "\n",
    "def get_knn_prediction(X_train, y_train, k, x, y, distance = 'euclidean'):\n",
    "    '''\n",
    "        Classifies some point x based on the k nearest points\n",
    "        \n",
    "        params:\n",
    "            df: pandas.DataFrame, the data to get the features and neighbors from\n",
    "            k: int, number of neighbors\n",
    "            x: pd.Series, a row from df to be classified\n",
    "            y: the target column from df\n",
    "            distance: str, defines if the distance used in the algorith is euclidean or manhattan. \n",
    "                Default: 'euclidean'\n",
    "        \n",
    "        returns: int, calculated class for x\n",
    "    '''\n",
    "    neighbors_index = get_neighbors(X_train, k, x, y, distance = distance).index\n",
    "    neighbors_values = y_train.loc[neighbors_index]\n",
    "    prediction = neighbors_values.value_counts().index[0]\n",
    "    return prediction\n",
    "\n",
    "def knn_predict(X_train, y_train, X_test, k, y, distance = 'euclidean'):\n",
    "    preds = []\n",
    "    for x in X_test.values:\n",
    "        preds.append(get_knn_prediction(X_train, y_train, k, x, y, distance=distance))\n",
    "    return np.array(preds)"
   ]
  },
  {
   "cell_type": "markdown",
   "metadata": {},
   "source": [
    "## Treino e teste do knn"
   ]
  },
  {
   "cell_type": "code",
   "execution_count": 315,
   "metadata": {},
   "outputs": [],
   "source": [
    "y_col = 10 # defining target column\n",
    "\n",
    "X_train, X_test, y_train, y_test = train_test_split(df.drop(y_col, axis=1), df[y_col], \n",
    "                                  test_size = 0.2, random_state = 42)"
   ]
  },
  {
   "cell_type": "code",
   "execution_count": 316,
   "metadata": {},
   "outputs": [],
   "source": [
    "from sklearn.metrics import f1_score\n",
    "import matplotlib.pyplot as plt\n",
    "import seaborn as sns\n",
    "\n",
    "sns.set_style('whitegrid')"
   ]
  },
  {
   "cell_type": "code",
   "execution_count": 317,
   "metadata": {},
   "outputs": [],
   "source": [
    "# cross-validation to find optimal k based on the f1 score\n",
    "f1 = []\n",
    "for k in range(1, 21):\n",
    "    knn_pred = knn_predict(X_train, y_train, X_test, k, y_col)\n",
    "    f1.append(f1_score(y_test, knn_pred))"
   ]
  },
  {
   "cell_type": "code",
   "execution_count": 318,
   "metadata": {},
   "outputs": [
    {
     "data": {
      "image/png": "[encoded data removed]",
      "text/plain": [
       "<Figure size 432x288 with 1 Axes>"
      ]
     },
     "metadata": {},
     "output_type": "display_data"
    }
   ],
   "source": [
    "plt.plot(f1)\n",
    "plt.xlabel('k')\n",
    "plt.ylabel('f1 score')\n",
    "plt.xticks(np.arange(20))\n",
    "plt.yticks(np.linspace(0, max(f1), 10));"
   ]
  },
  {
   "cell_type": "code",
   "execution_count": 319,
   "metadata": {},
   "outputs": [],
   "source": [
    "y_pred_knn = knn_predict(X_train, y_train, X_test, 1, y_col)"
   ]
  },
  {
   "cell_type": "code",
   "execution_count": 320,
   "metadata": {},
   "outputs": [
    {
     "name": "stdout",
     "output_type": "stream",
     "text": [
      "7-NN Classifier Confusion Matrix:\n"
     ]
    },
    {
     "data": {
      "text/html": [
       "<div>\n",
       "<style scoped>\n",
       "    .dataframe tbody tr th:only-of-type {\n",
       "        vertical-align: middle;\n",
       "    }\n",
       "\n",
       "    .dataframe tbody tr th {\n",
       "        vertical-align: top;\n",
       "    }\n",
       "\n",
       "    .dataframe thead th {\n",
       "        text-align: right;\n",
       "    }\n",
       "</style>\n",
       "<table border=\"1\" class=\"dataframe\">\n",
       "  <thead>\n",
       "    <tr style=\"text-align: right;\">\n",
       "      <th>Predicted</th>\n",
       "      <th>0</th>\n",
       "      <th>1</th>\n",
       "    </tr>\n",
       "    <tr>\n",
       "      <th>Actual</th>\n",
       "      <th></th>\n",
       "      <th></th>\n",
       "    </tr>\n",
       "  </thead>\n",
       "  <tbody>\n",
       "    <tr>\n",
       "      <th>0</th>\n",
       "      <td>54</td>\n",
       "      <td>8</td>\n",
       "    </tr>\n",
       "    <tr>\n",
       "      <th>1</th>\n",
       "      <td>11</td>\n",
       "      <td>1</td>\n",
       "    </tr>\n",
       "  </tbody>\n",
       "</table>\n",
       "</div>"
      ],
      "text/plain": [
       "Predicted   0  1\n",
       "Actual          \n",
       "0          54  8\n",
       "1          11  1"
      ]
     },
     "execution_count": 320,
     "metadata": {},
     "output_type": "execute_result"
    }
   ],
   "source": [
    "k = 7\n",
    "print('{}-NN Classifier Confusion Matrix:'.format(str(k)))\n",
    "\n",
    "conf_matrix = pd.crosstab(y_test, y_pred_knn, rownames=['Actual'], \n",
    "                               colnames=['Predicted'], margins = False)\n",
    "conf_matrix"
   ]
  },
  {
   "cell_type": "markdown",
   "metadata": {},
   "source": [
    "## 2. Classificador gaussiano linear"
   ]
  },
  {
   "cell_type": "code",
   "execution_count": 321,
   "metadata": {},
   "outputs": [],
   "source": [
    "# função para cálculo da gaussiana multivariada\n",
    "from scipy.stats import multivariate_normal"
   ]
  },
  {
   "cell_type": "code",
   "execution_count": 322,
   "metadata": {},
   "outputs": [],
   "source": [
    "class LinearGaussianClassifier:\n",
    "    \n",
    "    def fit(self, X_train, y_train):\n",
    "\n",
    "        # get the data mean value for each class\n",
    "        self.mean_0 = np.mean(X_train[y_train == 0])\n",
    "        self.mean_1 = np.mean(X_train[y_train == 1])\n",
    "\n",
    "        # get covariance (sigma parameter in gaussian distribution) for each class\n",
    "        self.sigma_0 = np.cov(X_train[y_train == 0], rowvar = False)\n",
    "        self.sigma_1 = np.cov(X_train[y_train == 1], rowvar = False)\n",
    "\n",
    "        # get class percentage\n",
    "        self.p_0 = len(y_train[y_train == 0])/len(y_train)\n",
    "        self.p_1 = len(y_train[y_train == 1])/len(y_train)\n",
    "\n",
    "        # get multivariate guassian probability for each class\n",
    "        self.g_prob_0 = multivariate_normal(self.mean_0, self.sigma_0, allow_singular = True)\n",
    "        self.g_prob_1 = multivariate_normal(self.mean_1, self.sigma_1, allow_singular = True)\n",
    "        \n",
    "    def predict(self, X_test):\n",
    "        y_pred = []\n",
    "        \n",
    "        for x in X_test.values:\n",
    "            # prediction based on the higher probability distribution function (pdf) for each class\n",
    "            if self.g_prob_0.pdf(x)*self.p_0 > self.g_prob_1.pdf(x)*self.p_1:\n",
    "                y_pred.append(0)\n",
    "            else:\n",
    "                y_pred.append(1)\n",
    "                \n",
    "        return np.array(y_pred)"
   ]
  },
  {
   "cell_type": "markdown",
   "metadata": {},
   "source": [
    "### Treino e teste do classificador gaussiano linear"
   ]
  },
  {
   "cell_type": "code",
   "execution_count": 323,
   "metadata": {},
   "outputs": [],
   "source": [
    "y_col = 10 # defining target column as the column 10\n",
    "\n",
    "X_train, X_test, y_train, y_test = train_test_split(df.drop(y_col, axis=1), df[y_col],\n",
    "                                                    test_size = 0.2, random_state = 42)"
   ]
  },
  {
   "cell_type": "code",
   "execution_count": 324,
   "metadata": {},
   "outputs": [],
   "source": [
    "lgc = LinearGaussianClassifier()"
   ]
  },
  {
   "cell_type": "code",
   "execution_count": 325,
   "metadata": {},
   "outputs": [],
   "source": [
    "lgc.fit(X_train, y_train)"
   ]
  },
  {
   "cell_type": "code",
   "execution_count": 326,
   "metadata": {},
   "outputs": [],
   "source": [
    "y_pred = lgc.predict(X_test)"
   ]
  },
  {
   "cell_type": "code",
   "execution_count": 327,
   "metadata": {},
   "outputs": [
    {
     "name": "stdout",
     "output_type": "stream",
     "text": [
      "Linear Gaussian Classifier Confusion Matrix:\n"
     ]
    },
    {
     "data": {
      "text/html": [
       "<div>\n",
       "<style scoped>\n",
       "    .dataframe tbody tr th:only-of-type {\n",
       "        vertical-align: middle;\n",
       "    }\n",
       "\n",
       "    .dataframe tbody tr th {\n",
       "        vertical-align: top;\n",
       "    }\n",
       "\n",
       "    .dataframe thead th {\n",
       "        text-align: right;\n",
       "    }\n",
       "</style>\n",
       "<table border=\"1\" class=\"dataframe\">\n",
       "  <thead>\n",
       "    <tr style=\"text-align: right;\">\n",
       "      <th>Predicted</th>\n",
       "      <th>0</th>\n",
       "      <th>1</th>\n",
       "    </tr>\n",
       "    <tr>\n",
       "      <th>Actual</th>\n",
       "      <th></th>\n",
       "      <th></th>\n",
       "    </tr>\n",
       "  </thead>\n",
       "  <tbody>\n",
       "    <tr>\n",
       "      <th>0</th>\n",
       "      <td>59</td>\n",
       "      <td>3</td>\n",
       "    </tr>\n",
       "    <tr>\n",
       "      <th>1</th>\n",
       "      <td>11</td>\n",
       "      <td>1</td>\n",
       "    </tr>\n",
       "  </tbody>\n",
       "</table>\n",
       "</div>"
      ],
      "text/plain": [
       "Predicted   0  1\n",
       "Actual          \n",
       "0          59  3\n",
       "1          11  1"
      ]
     },
     "execution_count": 327,
     "metadata": {},
     "output_type": "execute_result"
    }
   ],
   "source": [
    "print('Linear Gaussian Classifier Confusion Matrix:')\n",
    "\n",
    "conf_matrix = pd.crosstab(y_test, y_pred, rownames=['Actual'], \n",
    "                               colnames=['Predicted'], margins = False)\n",
    "conf_matrix"
   ]
  },
  {
   "cell_type": "code",
   "execution_count": null,
   "metadata": {},
   "outputs": [],
   "source": []
  }
 ],
 "metadata": {
  "kernelspec": {
   "display_name": "Python 3",
   "language": "python",
   "name": "python3"
  },
  "language_info": {
   "codemirror_mode": {
    "name": "ipython",
    "version": 3
   },
   "file_extension": ".py",
   "mimetype": "text/x-python",
   "name": "python",
   "nbconvert_exporter": "python",
   "pygments_lexer": "ipython3",
   "version": "3.6.10"
  }
 },
 "nbformat": 4,
 "nbformat_minor": 4
}
